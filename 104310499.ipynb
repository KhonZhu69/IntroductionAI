{
 "cells": [
  {
   "cell_type": "markdown",
   "id": "28d52c18",
   "metadata": {},
   "source": [
    "# Data Cleaning"
   ]
  },
  {
   "cell_type": "code",
   "execution_count": 4,
   "id": "4fb9949b",
   "metadata": {},
   "outputs": [
    {
     "name": "stdout",
     "output_type": "stream",
     "text": [
      "Collecting pandas\n",
      "  Downloading pandas-2.2.3-cp313-cp313-macosx_11_0_arm64.whl.metadata (89 kB)\n",
      "Collecting numpy>=1.26.0 (from pandas)\n",
      "  Downloading numpy-2.2.5-cp313-cp313-macosx_14_0_arm64.whl.metadata (62 kB)\n",
      "Requirement already satisfied: python-dateutil>=2.8.2 in /Users/khonzhu/Library/Python/3.13/lib/python/site-packages (from pandas) (2.9.0.post0)\n",
      "Collecting pytz>=2020.1 (from pandas)\n",
      "  Downloading pytz-2025.2-py2.py3-none-any.whl.metadata (22 kB)\n",
      "Collecting tzdata>=2022.7 (from pandas)\n",
      "  Downloading tzdata-2025.2-py2.py3-none-any.whl.metadata (1.4 kB)\n",
      "Requirement already satisfied: six>=1.5 in /Users/khonzhu/Library/Python/3.13/lib/python/site-packages (from python-dateutil>=2.8.2->pandas) (1.17.0)\n",
      "Downloading pandas-2.2.3-cp313-cp313-macosx_11_0_arm64.whl (11.3 MB)\n",
      "\u001b[2K   \u001b[90m━━━━━━━━━━━━━━━━━━━━━━━━━━━━━━━━━━━━━━━━\u001b[0m \u001b[32m11.3/11.3 MB\u001b[0m \u001b[31m13.6 MB/s\u001b[0m eta \u001b[36m0:00:00\u001b[0m00:01\u001b[0m0:01\u001b[0m\n",
      "\u001b[?25hDownloading numpy-2.2.5-cp313-cp313-macosx_14_0_arm64.whl (5.1 MB)\n",
      "\u001b[2K   \u001b[90m━━━━━━━━━━━━━━━━━━━━━━━━━━━━━━━━━━━━━━━━\u001b[0m \u001b[32m5.1/5.1 MB\u001b[0m \u001b[31m12.7 MB/s\u001b[0m eta \u001b[36m0:00:00\u001b[0ma \u001b[36m0:00:01\u001b[0m\n",
      "\u001b[?25hDownloading pytz-2025.2-py2.py3-none-any.whl (509 kB)\n",
      "Downloading tzdata-2025.2-py2.py3-none-any.whl (347 kB)\n",
      "Installing collected packages: pytz, tzdata, numpy, pandas\n",
      "Successfully installed numpy-2.2.5 pandas-2.2.3 pytz-2025.2 tzdata-2025.2\n",
      "\n",
      "\u001b[1m[\u001b[0m\u001b[34;49mnotice\u001b[0m\u001b[1;39;49m]\u001b[0m\u001b[39;49m A new release of pip is available: \u001b[0m\u001b[31;49m25.0.1\u001b[0m\u001b[39;49m -> \u001b[0m\u001b[32;49m25.1.1\u001b[0m\n",
      "\u001b[1m[\u001b[0m\u001b[34;49mnotice\u001b[0m\u001b[1;39;49m]\u001b[0m\u001b[39;49m To update, run: \u001b[0m\u001b[32;49mpip3 install --upgrade pip\u001b[0m\n",
      "Note: you may need to restart the kernel to use updated packages.\n"
     ]
    }
   ],
   "source": [
    "\n",
    "pip install pandas"
   ]
  },
  {
   "cell_type": "markdown",
   "id": "ccc2df30",
   "metadata": {},
   "source": [
    "## Data Cleaning\n"
   ]
  },
  {
   "cell_type": "code",
   "execution_count": 17,
   "id": "fab5c828",
   "metadata": {},
   "outputs": [
    {
     "name": "stdout",
     "output_type": "stream",
     "text": [
      "🧾 Duplicate rows removed: 0\n",
      "\n",
      "🔍 Missing values per column (before handling):\n",
      "Unnamed: 108    4192\n",
      "Unnamed: 107    4192\n",
      "Unnamed: 106    4192\n",
      "V58                0\n",
      "V69                0\n",
      "                ... \n",
      "V23                0\n",
      "V22                0\n",
      "V21                0\n",
      "V20                0\n",
      "V44                0\n",
      "Length: 109, dtype: int64\n",
      "\n",
      "✅ Data cleaning complete.\n",
      "📊 Initial shape: (4192, 109), Final shape: (4192, 109)\n",
      "💾 Cleaned file saved as 'cleaned_SData_Oct2006.csv'\n"
     ]
    },
    {
     "name": "stderr",
     "output_type": "stream",
     "text": [
      "/var/folders/lk/k1tkj48n66n798z1rjbtc8jm0000gn/T/ipykernel_17822/1693461658.py:28: FutureWarning: A value is trying to be set on a copy of a DataFrame or Series through chained assignment using an inplace method.\n",
      "The behavior will change in pandas 3.0. This inplace method will never work because the intermediate object on which we are setting values always behaves as a copy.\n",
      "\n",
      "For example, when doing 'df[col].method(value, inplace=True)', try using 'df.method({col: value}, inplace=True)' or df[col] = df[col].method(value) instead, to perform the operation inplace on the original object.\n",
      "\n",
      "\n",
      "  df[col].fillna(0, inplace=True)\n",
      "/var/folders/lk/k1tkj48n66n798z1rjbtc8jm0000gn/T/ipykernel_17822/1693461658.py:26: FutureWarning: A value is trying to be set on a copy of a DataFrame or Series through chained assignment using an inplace method.\n",
      "The behavior will change in pandas 3.0. This inplace method will never work because the intermediate object on which we are setting values always behaves as a copy.\n",
      "\n",
      "For example, when doing 'df[col].method(value, inplace=True)', try using 'df.method({col: value}, inplace=True)' or df[col] = df[col].method(value) instead, to perform the operation inplace on the original object.\n",
      "\n",
      "\n",
      "  df[col].fillna('unknown', inplace=True)\n",
      "/var/folders/lk/k1tkj48n66n798z1rjbtc8jm0000gn/T/ipykernel_17822/1693461658.py:33: UserWarning: Could not infer format, so each element will be parsed individually, falling back to `dateutil`. To ensure parsing is consistent and as-expected, please specify a format.\n",
      "  df['Date'] = pd.to_datetime(df['Date'], errors='coerce')\n"
     ]
    }
   ],
   "source": [
    "import pandas as pd\n",
    "\n",
    "# Load the dataset \n",
    "file_path = 'SData_Oct2006.csv'\n",
    "df = pd.read_csv(file_path, header=1)\n",
    "\n",
    "# Check and report initial shape\n",
    "initial_shape = df.shape\n",
    "\n",
    "# 🔹 Remove Duplicate Records\n",
    "duplicates_count = df.duplicated().sum()\n",
    "df.drop_duplicates(inplace=True)\n",
    "print(f\"🧾 Duplicate rows removed: {duplicates_count}\")\n",
    "\n",
    "# 🔹 Handle Missing Values\n",
    "# Report missing values per column\n",
    "print(\"\\n🔍 Missing values per column (before handling):\")\n",
    "print(df.isnull().sum().sort_values(ascending=False))\n",
    "\n",
    "# Drop rows that are completely empty\n",
    "df.dropna(how='all', inplace=True)\n",
    "\n",
    "# Fill missing values: strings → 'unknown', numbers → 0\n",
    "for col in df.columns:\n",
    "    if df[col].dtype == 'object':\n",
    "        df[col].fillna('unknown', inplace=True)\n",
    "    else:\n",
    "        df[col].fillna(0, inplace=True)\n",
    "\n",
    "# 🔹 Fix Data Types\n",
    "# Convert 'Date' column to datetime if it exists\n",
    "if 'Date' in df.columns:\n",
    "    df['Date'] = pd.to_datetime(df['Date'], errors='coerce')\n",
    "\n",
    "# 🔹 Standardize Formats\n",
    "# Clean 'City' column if it exists\n",
    "if 'City' in df.columns:\n",
    "    df['City'] = df['City'].str.lower().str.strip()\n",
    "\n",
    "# 🔹 Correct Structural Errors\n",
    "# Fix inconsistent values in 'City' column\n",
    "if 'City' in df.columns:\n",
    "    df['City'] = df['City'].replace({'melb': 'melbourne', 'Melb': 'melbourne'})\n",
    "\n",
    "# 🔹 Filter Outliers \n",
    "if 'Price' in df.columns:\n",
    "    Q1 = df['Price'].quantile(0.25)\n",
    "    Q3 = df['Price'].quantile(0.75)\n",
    "    IQR = Q3 - Q1\n",
    "    df = df[(df['Price'] >= Q1 - 1.5 * IQR) & (df['Price'] <= Q3 + 1.5 * IQR)]\n",
    "\n",
    "# 🔹 Validate Data Consistency\n",
    "# Ensure no future dates in 'Date' column\n",
    "if 'Date' in df.columns:\n",
    "    df = df[df['Date'] <= pd.Timestamp.today()]\n",
    "\n",
    "# 🔹 Rename Columns for readability\n",
    "df.rename(columns=lambda x: x.strip().lower().replace(' ', '_'), inplace=True)\n",
    "\n",
    "# 🔹 Save Cleaned Dataset\n",
    "df.to_csv('cleaned_SData_Oct2006.csv', index=False)\n",
    "\n",
    "# Report final shape and changes\n",
    "final_shape = df.shape\n",
    "print(f\"\\n✅ Data cleaning complete.\")\n",
    "print(f\"📊 Initial shape: {initial_shape}, Final shape: {final_shape}\")\n",
    "print(f\"💾 Cleaned file saved as 'cleaned_SData_Oct2006.csv'\")\n"
   ]
  },
  {
   "cell_type": "code",
   "execution_count": null,
   "id": "fe013680-a40c-457b-aa71-732522d9a2cc",
   "metadata": {},
   "outputs": [],
   "source": []
  },
  {
   "cell_type": "markdown",
   "id": "02eba615",
   "metadata": {},
   "source": [
    "## Data Sorting"
   ]
  },
  {
   "cell_type": "code",
   "execution_count": null,
   "id": "68265385-84c5-421c-a0cc-ed64ff6dda86",
   "metadata": {},
   "outputs": [],
   "source": [
    "\n",
    "\n"
   ]
  }
 ],
 "metadata": {
  "kernelspec": {
   "display_name": "Python 3 (ipykernel)",
   "language": "python",
   "name": "python3"
  },
  "language_info": {
   "codemirror_mode": {
    "name": "ipython",
    "version": 3
   },
   "file_extension": ".py",
   "mimetype": "text/x-python",
   "name": "python",
   "nbconvert_exporter": "python",
   "pygments_lexer": "ipython3",
   "version": "3.13.3"
  }
 },
 "nbformat": 4,
 "nbformat_minor": 5
}
