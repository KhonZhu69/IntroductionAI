{
 "cells": [
  {
   "cell_type": "code",
   "execution_count": 1,
   "id": "65f3bb12",
   "metadata": {},
   "outputs": [],
   "source": [
    "%matplotlib inline\n",
    "import pandas as pd\n",
    "import numpy as np\n",
    "import matplotlib.pyplot as plt\n",
    "from sklearn.preprocessing import MinMaxScaler\n",
    "from sklearn.metrics import mean_squared_error, mean_absolute_error\n",
    "from tensorflow.keras.models import Sequential\n",
    "from tensorflow.keras.layers import GRU, Dense, Input\n",
    "import math"
   ]
  },
  {
   "cell_type": "code",
   "execution_count": 2,
   "id": "5b245f96",
   "metadata": {},
   "outputs": [
    {
     "name": "stdout",
     "output_type": "stream",
     "text": [
      "Flattened traffic data points: 402432\n"
     ]
    }
   ],
   "source": [
    "# Load dataset\n",
    "df = pd.read_csv(\"SData_Oct2006.csv\", header=1)\n",
    "\n",
    "# Drop duplicates and handle missing\n",
    "df.drop_duplicates(inplace=True)\n",
    "df.dropna(how='all', inplace=True)\n",
    "for col in df.columns:\n",
    "    if df[col].dtype == 'object':\n",
    "        df[col] = df[col].fillna('unknown')\n",
    "    else:\n",
    "        df[col] = df[col].fillna(0)\n",
    "\n",
    "# Extract only V1 to V94 columns (traffic readings every 15 min)\n",
    "v_columns = [col for col in df.columns if col.startswith('V') and col[1:].isdigit()]\n",
    "traffic_df = df[v_columns]\n",
    "\n",
    "# Flatten all values into one long time series\n",
    "traffic_series = traffic_df.values.flatten()\n",
    "traffic_series = traffic_series[~np.isnan(traffic_series)]  # remove NaNs\n",
    "traffic_series = traffic_series.reshape(-1, 1)\n",
    "\n",
    "print(f\"Flattened traffic data points: {len(traffic_series)}\")"
   ]
  },
  {
   "cell_type": "code",
   "execution_count": 3,
   "id": "ad74a3e6",
   "metadata": {},
   "outputs": [],
   "source": [
    "# Normalize data\n",
    "scaler = MinMaxScaler(feature_range=(0, 1))\n",
    "scaled_data = scaler.fit_transform(traffic_series)\n",
    "\n",
    "# Create sequences\n",
    "def create_sequences(data, seq_length=10):\n",
    "    x, y = [], []\n",
    "    for i in range(len(data) - seq_length):\n",
    "        x.append(data[i:i+seq_length])\n",
    "        y.append(data[i+seq_length])\n",
    "    return np.array(x), np.array(y)\n",
    "\n",
    "SEQ_LEN = 10\n",
    "X, y = create_sequences(scaled_data, SEQ_LEN)\n",
    "\n",
    "# Split into train/test\n",
    "train_size = int(len(X) * 0.8)\n",
    "X_train, X_test = X[:train_size], X[train_size:]\n",
    "y_train, y_test = y[:train_size], y[train_size:]"
   ]
  },
  {
   "cell_type": "code",
   "execution_count": null,
   "id": "dcbf316a",
   "metadata": {},
   "outputs": [
    {
     "name": "stdout",
     "output_type": "stream",
     "text": [
      "Epoch 1/20\n",
      "\u001b[1m10061/10061\u001b[0m \u001b[32m━━━━━━━━━━━━━━━━━━━━\u001b[0m\u001b[37m\u001b[0m \u001b[1m20s\u001b[0m 2ms/step - loss: 0.0014 - val_loss: 5.7987e-04\n",
      "Epoch 2/20\n",
      "\u001b[1m10061/10061\u001b[0m \u001b[32m━━━━━━━━━━━━━━━━━━━━\u001b[0m\u001b[37m\u001b[0m \u001b[1m20s\u001b[0m 2ms/step - loss: 0.0010 - val_loss: 5.7854e-04\n",
      "Epoch 3/20\n",
      "\u001b[1m10061/10061\u001b[0m \u001b[32m━━━━━━━━━━━━━━━━━━━━\u001b[0m\u001b[37m\u001b[0m \u001b[1m20s\u001b[0m 2ms/step - loss: 9.7910e-04 - val_loss: 5.6159e-04\n",
      "Epoch 4/20\n",
      "\u001b[1m10061/10061\u001b[0m \u001b[32m━━━━━━━━━━━━━━━━━━━━\u001b[0m\u001b[37m\u001b[0m \u001b[1m20s\u001b[0m 2ms/step - loss: 9.7782e-04 - val_loss: 5.6764e-04\n",
      "Epoch 5/20\n",
      "\u001b[1m10061/10061\u001b[0m \u001b[32m━━━━━━━━━━━━━━━━━━━━\u001b[0m\u001b[37m\u001b[0m \u001b[1m20s\u001b[0m 2ms/step - loss: 9.7163e-04 - val_loss: 5.6947e-04\n",
      "Epoch 6/20\n",
      "\u001b[1m 4927/10061\u001b[0m \u001b[32m━━━━━━━━━\u001b[0m\u001b[37m━━━━━━━━━━━\u001b[0m \u001b[1m9s\u001b[0m 2ms/step - loss: 9.4164e-04"
     ]
    }
   ],
   "source": [
    "# Build and train GRU model\n",
    "model = Sequential()\n",
    "model.add(Input(shape=(SEQ_LEN, 1)))\n",
    "model.add(GRU(50, return_sequences=False))\n",
    "model.add(Dense(1))\n",
    "model.compile(optimizer='adam', loss='mse')\n",
    "\n",
    "history = model.fit(X_train, y_train, epochs=20, batch_size=32, validation_data=(X_test, y_test))"
   ]
  },
  {
   "cell_type": "code",
   "execution_count": null,
   "id": "b1c231d9",
   "metadata": {},
   "outputs": [],
   "source": [
    "# Plot training and validation loss\n",
    "plt.figure(figsize=(10, 5))\n",
    "plt.plot(history.history['loss'], label='Training Loss')\n",
    "plt.plot(history.history['val_loss'], label='Validation Loss')\n",
    "plt.title('GRU Model Training vs Validation Loss')\n",
    "plt.xlabel('Epoch')\n",
    "plt.ylabel('Loss')\n",
    "plt.legend()\n",
    "plt.grid(True)\n",
    "plt.show()"
   ]
  },
  {
   "cell_type": "code",
   "execution_count": null,
   "id": "ee2633d3",
   "metadata": {},
   "outputs": [],
   "source": [
    "# Predict and inverse transform\n",
    "predicted = model.predict(X_test)\n",
    "predicted_rescaled = scaler.inverse_transform(predicted)\n",
    "actual_rescaled = scaler.inverse_transform(y_test)\n",
    "\n",
    "# Plot predictions vs actual\n",
    "plt.figure(figsize=(12, 6))\n",
    "plt.plot(actual_rescaled, label='Actual Traffic Flow')\n",
    "plt.plot(predicted_rescaled, label='Predicted Traffic Flow')\n",
    "plt.title('GRU Traffic Flow Prediction (Flattened V Columns)')\n",
    "plt.xlabel('Time Step')\n",
    "plt.ylabel('Traffic Volume')\n",
    "plt.legend()\n",
    "plt.grid(True)\n",
    "plt.show()"
   ]
  },
  {
   "cell_type": "code",
   "execution_count": null,
   "id": "5a3aec68",
   "metadata": {},
   "outputs": [],
   "source": [
    "# Evaluate model\n",
    "mae = mean_absolute_error(actual_rescaled, predicted_rescaled)\n",
    "rmse = math.sqrt(mean_squared_error(actual_rescaled, predicted_rescaled))\n",
    "\n",
    "print(f\"MAE: {mae:.2f}\")\n",
    "print(f\"RMSE: {rmse:.2f}\")"
   ]
  }
 ],
 "metadata": {
  "kernelspec": {
   "display_name": "Python 3 (ipykernel)",
   "language": "python",
   "name": "python3"
  },
  "language_info": {
   "codemirror_mode": {
    "name": "ipython",
    "version": 3
   },
   "file_extension": ".py",
   "mimetype": "text/x-python",
   "name": "python",
   "nbconvert_exporter": "python",
   "pygments_lexer": "ipython3",
   "version": "3.11.11"
  }
 },
 "nbformat": 4,
 "nbformat_minor": 5
}
